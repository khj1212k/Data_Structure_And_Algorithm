{
 "cells": [
  {
   "cell_type": "markdown",
   "metadata": {},
   "source": [
    "Hw2\n",
    "下列题目中，第1、3、6 题和附加题需要提交代码，其余内容为纸面作业，请用word 或\n",
    "pdf的格式进行提交。\n",
    "1. 请根据第四周课件上给出的双端队列的ADT，给出一个完整的基于数组的双端队列的\n",
    "python实现。（20分）\n",
    "\n",
    "\n"
   ]
  },
  {
   "cell_type": "code",
   "execution_count": null,
   "metadata": {},
   "outputs": [],
   "source": [
    "class ArrayDeque:\n",
    "    DEFAULT_CAPACITY = 10  # 默认初始容量\n",
    "\n",
    "    def __init__(self):\n",
    "        self._data = [None] * ArrayDeque.DEFAULT_CAPACITY\n",
    "        self._size = 0\n",
    "        self._front = 0\n",
    "\n",
    "    def __len__(self):\n",
    "        return self._size\n",
    "\n",
    "    def is_empty(self):\n",
    "        return self._size == 0\n",
    "\n",
    "    def first(self):\n",
    "        if self.is_empty():\n",
    "            raise Exception('Deque is empty')\n",
    "        return self._data[self._front]\n",
    "\n",
    "    def last(self):\n",
    "        if self.is_empty():\n",
    "            raise Exception('Deque is empty')\n",
    "        back = (self._front + self._size - 1) % len(self._data)\n",
    "        return self._data[back]\n",
    "\n",
    "    def delete_first(self):\n",
    "        if self.is_empty():\n",
    "            raise Exception('Deque is empty')\n",
    "        result = self._data[self._front]\n",
    "        self._data[self._front] = None  # 帮助垃圾回收\n",
    "        self._front = (self._front + 1) % len(self._data)\n",
    "        self._size -= 1\n",
    "        return result\n",
    "\n",
    "    def delete_last(self):\n",
    "        if self.is_empty():\n",
    "            raise Exception('Deque is empty')\n",
    "        back = (self._front + self._size - 1) % len(self._data)\n",
    "        result = self._data[back]\n",
    "        self._data[back] = None  # 帮助垃圾回收\n",
    "        self._size -= 1\n",
    "        return result\n",
    "\n",
    "    def add_first(self, e):\n",
    "        if self._size == len(self._data):\n",
    "            self._resize(2 * len(self._data))\n",
    "        self._front = (self._front - 1) % len(self._data)\n",
    "        self._data[self._front] = e\n",
    "        self._size += 1\n",
    "\n",
    "    def add_last(self, e):\n",
    "        if self._size == len(self._data):\n",
    "            self._resize(2 * len(self._data))\n",
    "        back = (self._front + self._size) % len(self._data)\n",
    "        self._data[back] = e\n",
    "        self._size += 1\n",
    "\n",
    "    def _resize(self, cap):  # 扩容\n",
    "        old = self._data\n",
    "        self._data = [None] * cap\n",
    "        walk = self._front\n",
    "        for k in range(self._size):\n",
    "            self._data[k] = old[walk]\n",
    "            walk = (1 + walk) % len(old)\n",
    "        self._front = 0"
   ]
  },
  {
   "cell_type": "markdown",
   "metadata": {},
   "source": [
    "2. 请给出一个快速高效逆置单向链表的算法。（15分）\n",
    "\n",
    "\n"
   ]
  },
  {
   "cell_type": "code",
   "execution_count": null,
   "metadata": {},
   "outputs": [],
   "source": [
    "display_pdf"
   ]
  },
  {
   "cell_type": "markdown",
   "metadata": {},
   "source": [
    "3. 请编写一个python函数，将两个有序的单向链表合并为一个有序链表，合并后使原链\n",
    "表为空。链表的节点结构参考课件中的单向链表节点，且链表带有头节点。有序链表中\n",
    "元素为从小到大排列。（20分）\n",
    "\n",
    "\n"
   ]
  },
  {
   "cell_type": "code",
   "execution_count": null,
   "metadata": {},
   "outputs": [],
   "source": []
  },
  {
   "cell_type": "markdown",
   "metadata": {},
   "source": [
    "4. 一棵共有n个节点的树，其所有内部结点的度都为k，求该树的叶子节点数。（15分）\n",
    "\n",
    "\n"
   ]
  },
  {
   "cell_type": "code",
   "execution_count": null,
   "metadata": {},
   "outputs": [],
   "source": []
  },
  {
   "cell_type": "markdown",
   "metadata": {},
   "source": [
    "5. 假设某完全二叉树共有2024个节点，请问：\n",
    "a) 该二叉树有多少层？（5分）\n",
    "b) 它有多少个叶子节点？（5分）\n",
    "c) 它有多少个度为2的节点？（5分）\n",
    "\n",
    "\n"
   ]
  },
  {
   "cell_type": "code",
   "execution_count": null,
   "metadata": {},
   "outputs": [],
   "source": []
  },
  {
   "cell_type": "markdown",
   "metadata": {},
   "source": [
    "6. 如果充分利用哨兵节点（_sentinel），我们可以简化链式二叉树LinkedBinaryTree\n",
    "的实现过程。这里，哨兵节点为根节点的父节点，且根节点为哨兵节点的左孩子节点。\n",
    "请写出新的LinkedBinaryTree的_delete方法。（15分）"
   ]
  },
  {
   "cell_type": "code",
   "execution_count": null,
   "metadata": {},
   "outputs": [],
   "source": []
  }
 ],
 "metadata": {
  "kernelspec": {
   "display_name": "Python 3",
   "language": "python",
   "name": "python3"
  },
  "language_info": {
   "codemirror_mode": {
    "name": "ipython",
    "version": 3
   },
   "file_extension": ".py",
   "mimetype": "text/x-python",
   "name": "python",
   "nbconvert_exporter": "python",
   "pygments_lexer": "ipython3",
   "version": "3.9.11"
  }
 },
 "nbformat": 4,
 "nbformat_minor": 2
}
